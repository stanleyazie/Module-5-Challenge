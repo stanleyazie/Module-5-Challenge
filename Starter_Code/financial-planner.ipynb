{
 "cells": [
  {
   "cell_type": "markdown",
   "metadata": {},
   "source": [
    "# Unit 5 - Financial Planning"
   ]
  },
  {
   "cell_type": "code",
   "execution_count": 1,
   "metadata": {
    "tags": []
   },
   "outputs": [],
   "source": [
    "# Initial imports\n",
    "import os\n",
    "import requests\n",
    "import pandas as pd\n",
    "from dotenv import load_dotenv\n",
    "import alpaca_trade_api as tradeapi\n",
    "from MCForecastTools import MCSimulation\n",
    "\n",
    "import warnings\n",
    "warnings.filterwarnings('ignore')\n",
    "\n",
    "%matplotlib inline"
   ]
  },
  {
   "cell_type": "code",
   "execution_count": 2,
   "metadata": {
    "tags": []
   },
   "outputs": [
    {
     "data": {
      "text/plain": [
       "True"
      ]
     },
     "execution_count": 2,
     "metadata": {},
     "output_type": "execute_result"
    }
   ],
   "source": [
    "# Load .env enviroment variables\n",
    "load_dotenv()"
   ]
  },
  {
   "cell_type": "markdown",
   "metadata": {},
   "source": [
    "## Part 1 - Personal Finance Planner"
   ]
  },
  {
   "cell_type": "markdown",
   "metadata": {},
   "source": [
    "### Collect Crypto Prices Using the `requests` Library"
   ]
  },
  {
   "cell_type": "code",
   "execution_count": 3,
   "metadata": {
    "tags": []
   },
   "outputs": [],
   "source": [
    "# Set current amount of crypto assets\n",
    "my_btc = 1.2\n",
    "my_eth = 5.3"
   ]
  },
  {
   "cell_type": "code",
   "execution_count": 4,
   "metadata": {
    "tags": []
   },
   "outputs": [],
   "source": [
    "# Crypto API URLs\n",
    "btc_url = \"https://api.alternative.me/v2/ticker/Bitcoin/?convert=USD\"\n",
    "eth_url = \"https://api.alternative.me/v2/ticker/Ethereum/?convert=USD\""
   ]
  },
  {
   "cell_type": "code",
   "execution_count": 5,
   "metadata": {
    "tags": []
   },
   "outputs": [
    {
     "name": "stdout",
     "output_type": "stream",
     "text": [
      "The current value of your 1.2 BTC is $44970.0\n",
      "The current value of your 5.3 ETH is $10755.184\n"
     ]
    }
   ],
   "source": [
    "# Fetch current BTC price\n",
    "btc_data = requests.get(btc_url).json()\n",
    "btc_value = btc_data['data']['1']['quotes']['USD']['price']\n",
    "btc_value\n",
    "\n",
    "# Fetch current ETH price\n",
    "eth_data = requests.get(eth_url).json()\n",
    "eth_value = eth_data['data']['1027']['quotes']['USD']['price']\n",
    "eth_value\n",
    "\n",
    "\n",
    "# Compute current value of my crpto\n",
    "my_btc_value = my_btc * btc_value\n",
    "my_eth_value = my_eth * eth_value\n",
    "\n",
    "# Print current crypto wallet balance\n",
    "print(f\"The current value of your {my_btc} BTC is ${my_btc_value}\")\n",
    "print(f\"The current value of your {my_eth} ETH is ${my_eth_value}\")"
   ]
  },
  {
   "cell_type": "markdown",
   "metadata": {},
   "source": [
    "### Collect Investments Data Using Alpaca: `SPY` (stocks) and `AGG` (bonds)"
   ]
  },
  {
   "cell_type": "code",
   "execution_count": 6,
   "metadata": {
    "tags": []
   },
   "outputs": [],
   "source": [
    "# Set current amount of shares\n",
    "my_agg = 200\n",
    "my_spy = 50"
   ]
  },
  {
   "cell_type": "code",
   "execution_count": 7,
   "metadata": {
    "tags": []
   },
   "outputs": [],
   "source": [
    "# Set Alpaca API key and secret\n",
    "alpaca_api_key = os.getenv(\"ALPACA_API_KEY\")\n",
    "alpaca_secret_key = os.getenv(\"ALPACA_SECRET_KEY\")\n",
    "\n",
    "# Create the Alpaca API object\n",
    "alpaca = tradeapi.REST(\n",
    "    alpaca_api_key,\n",
    "    alpaca_secret_key,\n",
    "    api_version=\"v2\")"
   ]
  },
  {
   "cell_type": "code",
   "execution_count": 8,
   "metadata": {
    "tags": []
   },
   "outputs": [
    {
     "data": {
      "text/html": [
       "<div>\n",
       "<style scoped>\n",
       "    .dataframe tbody tr th:only-of-type {\n",
       "        vertical-align: middle;\n",
       "    }\n",
       "\n",
       "    .dataframe tbody tr th {\n",
       "        vertical-align: top;\n",
       "    }\n",
       "\n",
       "    .dataframe thead tr th {\n",
       "        text-align: left;\n",
       "    }\n",
       "\n",
       "    .dataframe thead tr:last-of-type th {\n",
       "        text-align: right;\n",
       "    }\n",
       "</style>\n",
       "<table border=\"1\" class=\"dataframe\">\n",
       "  <thead>\n",
       "    <tr>\n",
       "      <th></th>\n",
       "      <th colspan=\"7\" halign=\"left\">spy</th>\n",
       "      <th colspan=\"7\" halign=\"left\">agg</th>\n",
       "    </tr>\n",
       "    <tr>\n",
       "      <th></th>\n",
       "      <th>close</th>\n",
       "      <th>high</th>\n",
       "      <th>low</th>\n",
       "      <th>trade_count</th>\n",
       "      <th>open</th>\n",
       "      <th>volume</th>\n",
       "      <th>vwap</th>\n",
       "      <th>close</th>\n",
       "      <th>high</th>\n",
       "      <th>low</th>\n",
       "      <th>trade_count</th>\n",
       "      <th>open</th>\n",
       "      <th>volume</th>\n",
       "      <th>vwap</th>\n",
       "    </tr>\n",
       "    <tr>\n",
       "      <th>timestamp</th>\n",
       "      <th></th>\n",
       "      <th></th>\n",
       "      <th></th>\n",
       "      <th></th>\n",
       "      <th></th>\n",
       "      <th></th>\n",
       "      <th></th>\n",
       "      <th></th>\n",
       "      <th></th>\n",
       "      <th></th>\n",
       "      <th></th>\n",
       "      <th></th>\n",
       "      <th></th>\n",
       "      <th></th>\n",
       "    </tr>\n",
       "  </thead>\n",
       "  <tbody>\n",
       "    <tr>\n",
       "      <th>2023-11-17 05:00:00+00:00</th>\n",
       "      <td>450.79</td>\n",
       "      <td>451.42</td>\n",
       "      <td>449.29</td>\n",
       "      <td>439332</td>\n",
       "      <td>450.24</td>\n",
       "      <td>83183079</td>\n",
       "      <td>450.530471</td>\n",
       "      <td>95.25</td>\n",
       "      <td>95.36</td>\n",
       "      <td>95.025</td>\n",
       "      <td>27266</td>\n",
       "      <td>95.21</td>\n",
       "      <td>9244030</td>\n",
       "      <td>95.213371</td>\n",
       "    </tr>\n",
       "  </tbody>\n",
       "</table>\n",
       "</div>"
      ],
      "text/plain": [
       "                              spy                                      \\\n",
       "                            close    high     low trade_count    open   \n",
       "timestamp                                                               \n",
       "2023-11-17 05:00:00+00:00  450.79  451.42  449.29      439332  450.24   \n",
       "\n",
       "                                                   agg                 \\\n",
       "                             volume        vwap  close   high     low   \n",
       "timestamp                                                               \n",
       "2023-11-17 05:00:00+00:00  83183079  450.530471  95.25  95.36  95.025   \n",
       "\n",
       "                                                                  \n",
       "                          trade_count   open   volume       vwap  \n",
       "timestamp                                                         \n",
       "2023-11-17 05:00:00+00:00       27266  95.21  9244030  95.213371  "
      ]
     },
     "execution_count": 8,
     "metadata": {},
     "output_type": "execute_result"
    }
   ],
   "source": [
    "# Format current date as ISO format\n",
    "today = pd.Timestamp(\"2023-11-17\", tz=\"America/New_York\").isoformat()\n",
    "\n",
    "# Set the tickers\n",
    "tickers = [\"AGG\", \"SPY\"]\n",
    "\n",
    "# Set timeframe to \"1Day\" for Alpaca API\n",
    "timeframe = \"1Day\"\n",
    "\n",
    "# Get current closing prices for SPY and AGG\n",
    "port_df = alpaca.get_bars(\n",
    "    tickers,\n",
    "    timeframe,\n",
    "    start = today,\n",
    "    end = today\n",
    ").df\n",
    "\n",
    "# Reorganize the DataFrame\n",
    "# Separate ticker data\n",
    "spy = port_df[port_df['symbol']=='SPY'].drop('symbol', axis=1)\n",
    "agg = port_df[port_df['symbol']=='AGG'].drop('symbol', axis=1)\n",
    "\n",
    "\n",
    "# Concatenate the ticker DataFrames\n",
    "spy_agg = pd.concat([spy, agg],axis=1, keys=['spy','agg'])\n",
    "\n",
    "# Preview DataFrame\n",
    "spy_agg"
   ]
  },
  {
   "cell_type": "code",
   "execution_count": 9,
   "metadata": {
    "tags": []
   },
   "outputs": [
    {
     "name": "stdout",
     "output_type": "stream",
     "text": [
      "Current AGG closing price: $95.25\n",
      "Current SPY closing price: $450.79\n"
     ]
    }
   ],
   "source": [
    "# Pick AGG and SPY close prices\n",
    "agg_close_price = float(spy_agg['agg']['close'])\n",
    "spy_close_price = float(spy_agg['spy']['close'])\n",
    "\n",
    "# Print AGG and SPY close prices\n",
    "print(f\"Current AGG closing price: ${agg_close_price}\")\n",
    "print(f\"Current SPY closing price: ${spy_close_price}\")"
   ]
  },
  {
   "cell_type": "code",
   "execution_count": 10,
   "metadata": {
    "tags": []
   },
   "outputs": [
    {
     "name": "stdout",
     "output_type": "stream",
     "text": [
      "The current value of your 50 SPY shares is $22539.5\n",
      "The current value of your 200 AGG shares is $19050.0\n"
     ]
    }
   ],
   "source": [
    "# Compute the current value of shares\n",
    "my_spy_value = spy_close_price * my_spy\n",
    "my_agg_value = agg_close_price * my_agg\n",
    "\n",
    "# Print current value of shares\n",
    "print(f\"The current value of your {my_spy} SPY shares is ${my_spy_value}\")\n",
    "print(f\"The current value of your {my_agg} AGG shares is ${my_agg_value}\")"
   ]
  },
  {
   "cell_type": "markdown",
   "metadata": {},
   "source": [
    "### Savings Health Analysis"
   ]
  },
  {
   "cell_type": "code",
   "execution_count": 11,
   "metadata": {
    "tags": []
   },
   "outputs": [
    {
     "data": {
      "text/html": [
       "<div>\n",
       "<style scoped>\n",
       "    .dataframe tbody tr th:only-of-type {\n",
       "        vertical-align: middle;\n",
       "    }\n",
       "\n",
       "    .dataframe tbody tr th {\n",
       "        vertical-align: top;\n",
       "    }\n",
       "\n",
       "    .dataframe thead th {\n",
       "        text-align: right;\n",
       "    }\n",
       "</style>\n",
       "<table border=\"1\" class=\"dataframe\">\n",
       "  <thead>\n",
       "    <tr style=\"text-align: right;\">\n",
       "      <th></th>\n",
       "      <th>amount</th>\n",
       "    </tr>\n",
       "  </thead>\n",
       "  <tbody>\n",
       "    <tr>\n",
       "      <th>crypto</th>\n",
       "      <td>55725.184</td>\n",
       "    </tr>\n",
       "    <tr>\n",
       "      <th>shares</th>\n",
       "      <td>41589.500</td>\n",
       "    </tr>\n",
       "  </tbody>\n",
       "</table>\n",
       "</div>"
      ],
      "text/plain": [
       "           amount\n",
       "crypto  55725.184\n",
       "shares  41589.500"
      ]
     },
     "metadata": {},
     "output_type": "display_data"
    }
   ],
   "source": [
    "# Set monthly household income\n",
    "monthly_income = 12000\n",
    "\n",
    "# Consolidate financial assets data\n",
    "crypto = my_btc_value + my_eth_value\n",
    "shares = my_spy_value + my_agg_value\n",
    "\n",
    "# Create savings DataFrame\n",
    "df_savings = pd.DataFrame([crypto, shares], columns=['amount'], index=['crypto', 'shares'])\n",
    "\n",
    "# Display savings DataFrame\n",
    "display(df_savings)"
   ]
  },
  {
   "cell_type": "code",
   "execution_count": 12,
   "metadata": {
    "tags": []
   },
   "outputs": [
    {
     "data": {
      "image/png": "[encoded data removed]",
      "text/plain": [
       "<Figure size 640x480 with 1 Axes>"
      ]
     },
     "metadata": {},
     "output_type": "display_data"
    }
   ],
   "source": [
    "# Plot savings pie chart\n",
    "df_savings.plot.pie(title = 'Composition of Personal Savings', subplots=True);"
   ]
  },
  {
   "cell_type": "code",
   "execution_count": 13,
   "metadata": {
    "tags": []
   },
   "outputs": [
    {
     "name": "stdout",
     "output_type": "stream",
     "text": [
      "Congratulations for having more than enough money saved to build an emergency fund!\n"
     ]
    }
   ],
   "source": [
    "# Set ideal emergency fund\n",
    "emergency_fund = monthly_income * 3\n",
    "\n",
    "# Calculate total amount of savings\n",
    "total_savings = crypto + shares\n",
    "total_savings\n",
    "\n",
    "# Validate saving health\n",
    "if total_savings > emergency_fund :\n",
    "    print('Congratulations for having more than enough money saved to build an emergency fund!')\n",
    "elif total_savings == emergency_fund :\n",
    "    print('Congratulations you have just reached you financial goal to start an emergency fund!')\n",
    "elif total_savings < emergency_fund :\n",
    "    print(f'You are currently ${emergency_fund - total_savings} away from having enough money to start an emergency fund')"
   ]
  },
  {
   "cell_type": "markdown",
   "metadata": {},
   "source": [
    "## Part 2 - Retirement Planning\n",
    "\n",
    "### Monte Carlo Simulation"
   ]
  },
  {
   "cell_type": "code",
   "execution_count": 14,
   "metadata": {
    "tags": []
   },
   "outputs": [],
   "source": [
    "# Set start and end dates of five years back from today.\n",
    "# Sample results may vary from the solution based on the time frame chosen\n",
    "start_date = pd.Timestamp('2018-11-01', tz='America/New_York').isoformat()\n",
    "end_date = pd.Timestamp('2023-11-01', tz='America/New_York').isoformat()"
   ]
  },
  {
   "cell_type": "code",
   "execution_count": 15,
   "metadata": {
    "tags": []
   },
   "outputs": [
    {
     "data": {
      "text/html": [
       "<div>\n",
       "<style scoped>\n",
       "    .dataframe tbody tr th:only-of-type {\n",
       "        vertical-align: middle;\n",
       "    }\n",
       "\n",
       "    .dataframe tbody tr th {\n",
       "        vertical-align: top;\n",
       "    }\n",
       "\n",
       "    .dataframe thead tr th {\n",
       "        text-align: left;\n",
       "    }\n",
       "\n",
       "    .dataframe thead tr:last-of-type th {\n",
       "        text-align: right;\n",
       "    }\n",
       "</style>\n",
       "<table border=\"1\" class=\"dataframe\">\n",
       "  <thead>\n",
       "    <tr>\n",
       "      <th></th>\n",
       "      <th colspan=\"7\" halign=\"left\">spy</th>\n",
       "      <th colspan=\"7\" halign=\"left\">agg</th>\n",
       "    </tr>\n",
       "    <tr>\n",
       "      <th></th>\n",
       "      <th>close</th>\n",
       "      <th>high</th>\n",
       "      <th>low</th>\n",
       "      <th>trade_count</th>\n",
       "      <th>open</th>\n",
       "      <th>volume</th>\n",
       "      <th>vwap</th>\n",
       "      <th>close</th>\n",
       "      <th>high</th>\n",
       "      <th>low</th>\n",
       "      <th>trade_count</th>\n",
       "      <th>open</th>\n",
       "      <th>volume</th>\n",
       "      <th>vwap</th>\n",
       "    </tr>\n",
       "    <tr>\n",
       "      <th>timestamp</th>\n",
       "      <th></th>\n",
       "      <th></th>\n",
       "      <th></th>\n",
       "      <th></th>\n",
       "      <th></th>\n",
       "      <th></th>\n",
       "      <th></th>\n",
       "      <th></th>\n",
       "      <th></th>\n",
       "      <th></th>\n",
       "      <th></th>\n",
       "      <th></th>\n",
       "      <th></th>\n",
       "      <th></th>\n",
       "    </tr>\n",
       "  </thead>\n",
       "  <tbody>\n",
       "    <tr>\n",
       "      <th>2018-11-01 04:00:00+00:00</th>\n",
       "      <td>273.37</td>\n",
       "      <td>273.73</td>\n",
       "      <td>270.38</td>\n",
       "      <td>460604</td>\n",
       "      <td>271.60</td>\n",
       "      <td>101051621</td>\n",
       "      <td>272.367233</td>\n",
       "      <td>104.34</td>\n",
       "      <td>104.4100</td>\n",
       "      <td>104.2100</td>\n",
       "      <td>21872</td>\n",
       "      <td>104.22</td>\n",
       "      <td>8799790</td>\n",
       "      <td>104.334351</td>\n",
       "    </tr>\n",
       "    <tr>\n",
       "      <th>2018-11-02 04:00:00+00:00</th>\n",
       "      <td>271.80</td>\n",
       "      <td>275.23</td>\n",
       "      <td>269.59</td>\n",
       "      <td>612382</td>\n",
       "      <td>274.75</td>\n",
       "      <td>124249254</td>\n",
       "      <td>272.157261</td>\n",
       "      <td>104.03</td>\n",
       "      <td>104.2900</td>\n",
       "      <td>103.9400</td>\n",
       "      <td>15973</td>\n",
       "      <td>104.25</td>\n",
       "      <td>4620690</td>\n",
       "      <td>104.066112</td>\n",
       "    </tr>\n",
       "    <tr>\n",
       "      <th>2018-11-05 05:00:00+00:00</th>\n",
       "      <td>273.47</td>\n",
       "      <td>274.01</td>\n",
       "      <td>271.35</td>\n",
       "      <td>319136</td>\n",
       "      <td>272.44</td>\n",
       "      <td>69873066</td>\n",
       "      <td>272.869097</td>\n",
       "      <td>104.10</td>\n",
       "      <td>104.1700</td>\n",
       "      <td>104.0700</td>\n",
       "      <td>11362</td>\n",
       "      <td>104.14</td>\n",
       "      <td>3951758</td>\n",
       "      <td>104.109446</td>\n",
       "    </tr>\n",
       "    <tr>\n",
       "      <th>2018-11-06 05:00:00+00:00</th>\n",
       "      <td>275.11</td>\n",
       "      <td>275.30</td>\n",
       "      <td>273.25</td>\n",
       "      <td>285373</td>\n",
       "      <td>273.32</td>\n",
       "      <td>60827084</td>\n",
       "      <td>274.496925</td>\n",
       "      <td>104.11</td>\n",
       "      <td>104.1699</td>\n",
       "      <td>104.0635</td>\n",
       "      <td>10446</td>\n",
       "      <td>104.09</td>\n",
       "      <td>2672159</td>\n",
       "      <td>104.109635</td>\n",
       "    </tr>\n",
       "    <tr>\n",
       "      <th>2018-11-07 05:00:00+00:00</th>\n",
       "      <td>281.00</td>\n",
       "      <td>281.10</td>\n",
       "      <td>277.08</td>\n",
       "      <td>437245</td>\n",
       "      <td>277.56</td>\n",
       "      <td>104778528</td>\n",
       "      <td>279.401829</td>\n",
       "      <td>104.20</td>\n",
       "      <td>104.3600</td>\n",
       "      <td>104.1400</td>\n",
       "      <td>15114</td>\n",
       "      <td>104.25</td>\n",
       "      <td>5003115</td>\n",
       "      <td>104.234319</td>\n",
       "    </tr>\n",
       "  </tbody>\n",
       "</table>\n",
       "</div>"
      ],
      "text/plain": [
       "                              spy                                      \\\n",
       "                            close    high     low trade_count    open   \n",
       "timestamp                                                               \n",
       "2018-11-01 04:00:00+00:00  273.37  273.73  270.38      460604  271.60   \n",
       "2018-11-02 04:00:00+00:00  271.80  275.23  269.59      612382  274.75   \n",
       "2018-11-05 05:00:00+00:00  273.47  274.01  271.35      319136  272.44   \n",
       "2018-11-06 05:00:00+00:00  275.11  275.30  273.25      285373  273.32   \n",
       "2018-11-07 05:00:00+00:00  281.00  281.10  277.08      437245  277.56   \n",
       "\n",
       "                                                     agg                      \\\n",
       "                              volume        vwap   close      high       low   \n",
       "timestamp                                                                      \n",
       "2018-11-01 04:00:00+00:00  101051621  272.367233  104.34  104.4100  104.2100   \n",
       "2018-11-02 04:00:00+00:00  124249254  272.157261  104.03  104.2900  103.9400   \n",
       "2018-11-05 05:00:00+00:00   69873066  272.869097  104.10  104.1700  104.0700   \n",
       "2018-11-06 05:00:00+00:00   60827084  274.496925  104.11  104.1699  104.0635   \n",
       "2018-11-07 05:00:00+00:00  104778528  279.401829  104.20  104.3600  104.1400   \n",
       "\n",
       "                                                                    \n",
       "                          trade_count    open   volume        vwap  \n",
       "timestamp                                                           \n",
       "2018-11-01 04:00:00+00:00       21872  104.22  8799790  104.334351  \n",
       "2018-11-02 04:00:00+00:00       15973  104.25  4620690  104.066112  \n",
       "2018-11-05 05:00:00+00:00       11362  104.14  3951758  104.109446  \n",
       "2018-11-06 05:00:00+00:00       10446  104.09  2672159  104.109635  \n",
       "2018-11-07 05:00:00+00:00       15114  104.25  5003115  104.234319  "
      ]
     },
     "execution_count": 15,
     "metadata": {},
     "output_type": "execute_result"
    }
   ],
   "source": [
    "# Get 5 years' worth of historical data for SPY and AGG\n",
    "port_5y = alpaca.get_bars(\n",
    "    tickers,\n",
    "    timeframe,\n",
    "    start = start_date,\n",
    "    end = end_date\n",
    ").df\n",
    "\n",
    "# Reorganize the DataFrame\n",
    "# Separate ticker data\n",
    "spy_5y = port_5y[port_5y['symbol']=='SPY'].drop('symbol', axis=1)\n",
    "agg_5y = port_5y[port_5y['symbol']=='AGG'].drop('symbol', axis=1)\n",
    "\n",
    "# Concatenate the ticker DataFrames\n",
    "spy_agg_5y = pd.concat([spy_5y, agg_5y],axis=1, keys=['spy','agg'])\n",
    "\n",
    "# Display sample data\n",
    "spy_agg_5y.head()"
   ]
  },
  {
   "cell_type": "code",
   "execution_count": 16,
   "metadata": {
    "tags": []
   },
   "outputs": [],
   "source": [
    "# Configuring a Monte Carlo simulation to forecast 30 years cumulative returns\n",
    "num_sims = 500\n",
    "\n",
    "mc_spy_agg = MCSimulation(\n",
    "    portfolio_data = spy_agg_5y,\n",
    "    weights = [.6, .4],\n",
    "    num_simulation = num_sims,\n",
    "    num_trading_days = 252*30\n",
    ")\n"
   ]
  },
  {
   "cell_type": "code",
   "execution_count": 17,
   "metadata": {
    "tags": []
   },
   "outputs": [
    {
     "data": {
      "text/html": [
       "<div>\n",
       "<style scoped>\n",
       "    .dataframe tbody tr th:only-of-type {\n",
       "        vertical-align: middle;\n",
       "    }\n",
       "\n",
       "    .dataframe tbody tr th {\n",
       "        vertical-align: top;\n",
       "    }\n",
       "\n",
       "    .dataframe thead tr th {\n",
       "        text-align: left;\n",
       "    }\n",
       "\n",
       "    .dataframe thead tr:last-of-type th {\n",
       "        text-align: right;\n",
       "    }\n",
       "</style>\n",
       "<table border=\"1\" class=\"dataframe\">\n",
       "  <thead>\n",
       "    <tr>\n",
       "      <th></th>\n",
       "      <th colspan=\"8\" halign=\"left\">spy</th>\n",
       "      <th colspan=\"8\" halign=\"left\">agg</th>\n",
       "    </tr>\n",
       "    <tr>\n",
       "      <th></th>\n",
       "      <th>close</th>\n",
       "      <th>high</th>\n",
       "      <th>low</th>\n",
       "      <th>trade_count</th>\n",
       "      <th>open</th>\n",
       "      <th>volume</th>\n",
       "      <th>vwap</th>\n",
       "      <th>daily_return</th>\n",
       "      <th>close</th>\n",
       "      <th>high</th>\n",
       "      <th>low</th>\n",
       "      <th>trade_count</th>\n",
       "      <th>open</th>\n",
       "      <th>volume</th>\n",
       "      <th>vwap</th>\n",
       "      <th>daily_return</th>\n",
       "    </tr>\n",
       "    <tr>\n",
       "      <th>timestamp</th>\n",
       "      <th></th>\n",
       "      <th></th>\n",
       "      <th></th>\n",
       "      <th></th>\n",
       "      <th></th>\n",
       "      <th></th>\n",
       "      <th></th>\n",
       "      <th></th>\n",
       "      <th></th>\n",
       "      <th></th>\n",
       "      <th></th>\n",
       "      <th></th>\n",
       "      <th></th>\n",
       "      <th></th>\n",
       "      <th></th>\n",
       "      <th></th>\n",
       "    </tr>\n",
       "  </thead>\n",
       "  <tbody>\n",
       "    <tr>\n",
       "      <th>2018-11-01 04:00:00+00:00</th>\n",
       "      <td>273.37</td>\n",
       "      <td>273.73</td>\n",
       "      <td>270.38</td>\n",
       "      <td>460604</td>\n",
       "      <td>271.60</td>\n",
       "      <td>101051621</td>\n",
       "      <td>272.367233</td>\n",
       "      <td>NaN</td>\n",
       "      <td>104.34</td>\n",
       "      <td>104.4100</td>\n",
       "      <td>104.2100</td>\n",
       "      <td>21872</td>\n",
       "      <td>104.22</td>\n",
       "      <td>8799790</td>\n",
       "      <td>104.334351</td>\n",
       "      <td>NaN</td>\n",
       "    </tr>\n",
       "    <tr>\n",
       "      <th>2018-11-02 04:00:00+00:00</th>\n",
       "      <td>271.80</td>\n",
       "      <td>275.23</td>\n",
       "      <td>269.59</td>\n",
       "      <td>612382</td>\n",
       "      <td>274.75</td>\n",
       "      <td>124249254</td>\n",
       "      <td>272.157261</td>\n",
       "      <td>-0.005743</td>\n",
       "      <td>104.03</td>\n",
       "      <td>104.2900</td>\n",
       "      <td>103.9400</td>\n",
       "      <td>15973</td>\n",
       "      <td>104.25</td>\n",
       "      <td>4620690</td>\n",
       "      <td>104.066112</td>\n",
       "      <td>-0.002971</td>\n",
       "    </tr>\n",
       "    <tr>\n",
       "      <th>2018-11-05 05:00:00+00:00</th>\n",
       "      <td>273.47</td>\n",
       "      <td>274.01</td>\n",
       "      <td>271.35</td>\n",
       "      <td>319136</td>\n",
       "      <td>272.44</td>\n",
       "      <td>69873066</td>\n",
       "      <td>272.869097</td>\n",
       "      <td>0.006144</td>\n",
       "      <td>104.10</td>\n",
       "      <td>104.1700</td>\n",
       "      <td>104.0700</td>\n",
       "      <td>11362</td>\n",
       "      <td>104.14</td>\n",
       "      <td>3951758</td>\n",
       "      <td>104.109446</td>\n",
       "      <td>0.000673</td>\n",
       "    </tr>\n",
       "    <tr>\n",
       "      <th>2018-11-06 05:00:00+00:00</th>\n",
       "      <td>275.11</td>\n",
       "      <td>275.30</td>\n",
       "      <td>273.25</td>\n",
       "      <td>285373</td>\n",
       "      <td>273.32</td>\n",
       "      <td>60827084</td>\n",
       "      <td>274.496925</td>\n",
       "      <td>0.005997</td>\n",
       "      <td>104.11</td>\n",
       "      <td>104.1699</td>\n",
       "      <td>104.0635</td>\n",
       "      <td>10446</td>\n",
       "      <td>104.09</td>\n",
       "      <td>2672159</td>\n",
       "      <td>104.109635</td>\n",
       "      <td>0.000096</td>\n",
       "    </tr>\n",
       "    <tr>\n",
       "      <th>2018-11-07 05:00:00+00:00</th>\n",
       "      <td>281.00</td>\n",
       "      <td>281.10</td>\n",
       "      <td>277.08</td>\n",
       "      <td>437245</td>\n",
       "      <td>277.56</td>\n",
       "      <td>104778528</td>\n",
       "      <td>279.401829</td>\n",
       "      <td>0.021410</td>\n",
       "      <td>104.20</td>\n",
       "      <td>104.3600</td>\n",
       "      <td>104.1400</td>\n",
       "      <td>15114</td>\n",
       "      <td>104.25</td>\n",
       "      <td>5003115</td>\n",
       "      <td>104.234319</td>\n",
       "      <td>0.000864</td>\n",
       "    </tr>\n",
       "  </tbody>\n",
       "</table>\n",
       "</div>"
      ],
      "text/plain": [
       "                              spy                                      \\\n",
       "                            close    high     low trade_count    open   \n",
       "timestamp                                                               \n",
       "2018-11-01 04:00:00+00:00  273.37  273.73  270.38      460604  271.60   \n",
       "2018-11-02 04:00:00+00:00  271.80  275.23  269.59      612382  274.75   \n",
       "2018-11-05 05:00:00+00:00  273.47  274.01  271.35      319136  272.44   \n",
       "2018-11-06 05:00:00+00:00  275.11  275.30  273.25      285373  273.32   \n",
       "2018-11-07 05:00:00+00:00  281.00  281.10  277.08      437245  277.56   \n",
       "\n",
       "                                                                  agg  \\\n",
       "                              volume        vwap daily_return   close   \n",
       "timestamp                                                               \n",
       "2018-11-01 04:00:00+00:00  101051621  272.367233          NaN  104.34   \n",
       "2018-11-02 04:00:00+00:00  124249254  272.157261    -0.005743  104.03   \n",
       "2018-11-05 05:00:00+00:00   69873066  272.869097     0.006144  104.10   \n",
       "2018-11-06 05:00:00+00:00   60827084  274.496925     0.005997  104.11   \n",
       "2018-11-07 05:00:00+00:00  104778528  279.401829     0.021410  104.20   \n",
       "\n",
       "                                                                            \\\n",
       "                               high       low trade_count    open   volume   \n",
       "timestamp                                                                    \n",
       "2018-11-01 04:00:00+00:00  104.4100  104.2100       21872  104.22  8799790   \n",
       "2018-11-02 04:00:00+00:00  104.2900  103.9400       15973  104.25  4620690   \n",
       "2018-11-05 05:00:00+00:00  104.1700  104.0700       11362  104.14  3951758   \n",
       "2018-11-06 05:00:00+00:00  104.1699  104.0635       10446  104.09  2672159   \n",
       "2018-11-07 05:00:00+00:00  104.3600  104.1400       15114  104.25  5003115   \n",
       "\n",
       "                                                    \n",
       "                                 vwap daily_return  \n",
       "timestamp                                           \n",
       "2018-11-01 04:00:00+00:00  104.334351          NaN  \n",
       "2018-11-02 04:00:00+00:00  104.066112    -0.002971  \n",
       "2018-11-05 05:00:00+00:00  104.109446     0.000673  \n",
       "2018-11-06 05:00:00+00:00  104.109635     0.000096  \n",
       "2018-11-07 05:00:00+00:00  104.234319     0.000864  "
      ]
     },
     "execution_count": 17,
     "metadata": {},
     "output_type": "execute_result"
    }
   ],
   "source": [
    "# Printing the simulation input data\n",
    "mc_spy_agg.portfolio_data.head()"
   ]
  },
  {
   "cell_type": "code",
   "execution_count": null,
   "metadata": {
    "tags": []
   },
   "outputs": [
    {
     "name": "stdout",
     "output_type": "stream",
     "text": [
      "Running Monte Carlo simulation number 0.\n",
      "Running Monte Carlo simulation number 10.\n",
      "Running Monte Carlo simulation number 20.\n",
      "Running Monte Carlo simulation number 30.\n",
      "Running Monte Carlo simulation number 40.\n",
      "Running Monte Carlo simulation number 50.\n",
      "Running Monte Carlo simulation number 60.\n",
      "Running Monte Carlo simulation number 70.\n",
      "Running Monte Carlo simulation number 80.\n",
      "Running Monte Carlo simulation number 90.\n",
      "Running Monte Carlo simulation number 100.\n",
      "Running Monte Carlo simulation number 110.\n",
      "Running Monte Carlo simulation number 120.\n",
      "Running Monte Carlo simulation number 130.\n",
      "Running Monte Carlo simulation number 140.\n",
      "Running Monte Carlo simulation number 150.\n",
      "Running Monte Carlo simulation number 160.\n",
      "Running Monte Carlo simulation number 170.\n",
      "Running Monte Carlo simulation number 180.\n",
      "Running Monte Carlo simulation number 190.\n",
      "Running Monte Carlo simulation number 200.\n",
      "Running Monte Carlo simulation number 210.\n",
      "Running Monte Carlo simulation number 220.\n",
      "Running Monte Carlo simulation number 230.\n",
      "Running Monte Carlo simulation number 240.\n",
      "Running Monte Carlo simulation number 250.\n",
      "Running Monte Carlo simulation number 260.\n",
      "Running Monte Carlo simulation number 270.\n",
      "Running Monte Carlo simulation number 280.\n",
      "Running Monte Carlo simulation number 290.\n",
      "Running Monte Carlo simulation number 300.\n",
      "Running Monte Carlo simulation number 310.\n",
      "Running Monte Carlo simulation number 320.\n",
      "Running Monte Carlo simulation number 330.\n",
      "Running Monte Carlo simulation number 340.\n",
      "Running Monte Carlo simulation number 350.\n",
      "Running Monte Carlo simulation number 360.\n",
      "Running Monte Carlo simulation number 370.\n",
      "Running Monte Carlo simulation number 380.\n",
      "Running Monte Carlo simulation number 390.\n",
      "Running Monte Carlo simulation number 400.\n",
      "Running Monte Carlo simulation number 410.\n",
      "Running Monte Carlo simulation number 420.\n",
      "Running Monte Carlo simulation number 430.\n"
     ]
    }
   ],
   "source": [
    "# Running a Monte Carlo simulation to forecast 30 years cumulative returns\n",
    "mc_spy_agg.calc_cumulative_return()"
   ]
  },
  {
   "cell_type": "code",
   "execution_count": null,
   "metadata": {
    "tags": []
   },
   "outputs": [],
   "source": [
    "# Plot simulation outcomes\n",
    "spy_agg_line_mc = mc_spy_agg.plot_simulation()\n",
    "spy_agg_line_mc;"
   ]
  },
  {
   "cell_type": "code",
   "execution_count": null,
   "metadata": {
    "tags": []
   },
   "outputs": [],
   "source": [
    "# Plot probability distribution and confidence intervals\n",
    "spy_agg_dist = mc_spy_agg.plot_distribution()\n",
    "spy_agg_dist;"
   ]
  },
  {
   "cell_type": "markdown",
   "metadata": {},
   "source": [
    "### Retirement Analysis"
   ]
  },
  {
   "cell_type": "code",
   "execution_count": null,
   "metadata": {
    "tags": []
   },
   "outputs": [],
   "source": [
    "# Fetch summary statistics from the Monte Carlo simulation results\n",
    "spy_agg_summary = mc_spy_agg.summarize_cumulative_return()\n",
    "\n",
    "# Print summary statistics\n",
    "print(spy_agg_summary)"
   ]
  },
  {
   "cell_type": "markdown",
   "metadata": {},
   "source": [
    "### Calculate the expected portfolio return at the `95%` lower and upper confidence intervals based on a `$20,000` initial investment."
   ]
  },
  {
   "cell_type": "code",
   "execution_count": null,
   "metadata": {},
   "outputs": [],
   "source": [
    "# Set initial investment\n",
    "initial_investment = 20000\n",
    "\n",
    "# Use the lower and upper `95%` confidence intervals to calculate the range of the possible outcomes of our $20,000\n",
    "ci_lower = round(spy_agg_summary[8]*initial_investment,2)\n",
    "ci_upper = round(spy_agg_summary[9]*initial_investment,2)\n",
    "\n",
    "# Print results\n",
    "print(f\"There is a 95% chance that an initial investment of ${initial_investment} in the portfolio\"\n",
    "      f\" over the next 30 years will end within in the range of\"\n",
    "      f\" ${ci_lower} and ${ci_upper}\")"
   ]
  },
  {
   "cell_type": "markdown",
   "metadata": {},
   "source": [
    "### Calculate the expected portfolio return at the `95%` lower and upper confidence intervals based on a `50%` increase in the initial investment."
   ]
  },
  {
   "cell_type": "code",
   "execution_count": null,
   "metadata": {},
   "outputs": [],
   "source": [
    "# Set initial investment\n",
    "initial_investment = 20000 * 1.5\n",
    "\n",
    "# Use the lower and upper `95%` confidence intervals to calculate the range of the possible outcomes of our $30,000\n",
    "ci_lower = round(spy_agg_summary[8]*initial_investment,2)\n",
    "ci_upper = round(spy_agg_summary[9]*initial_investment,2)\n",
    "\n",
    "# Print results\n",
    "print(f\"There is a 95% chance that an initial investment of ${initial_investment} in the portfolio\"\n",
    "      f\" over the next 30 years will end within in the range of\"\n",
    "      f\" ${ci_lower} and ${ci_upper}\")"
   ]
  },
  {
   "cell_type": "markdown",
   "metadata": {},
   "source": [
    "## Optional Challenge - Early Retirement\n",
    "\n",
    "\n",
    "### Five Years Retirement Option"
   ]
  },
  {
   "cell_type": "code",
   "execution_count": null,
   "metadata": {},
   "outputs": [],
   "source": [
    "# Configuring a Monte Carlo simulation to forecast 5 years cumulative returns\n",
    "#adjusting for riskier profile with stronger spy weighing\n",
    "num_sims = 500\n",
    "\n",
    "mc_spy_agg_5y = MCSimulation(\n",
    "    portfolio_data = spy_agg_5y,\n",
    "    weights = [.8, .2],\n",
    "    num_simulation = num_sims,\n",
    "    num_trading_days = 252*5\n",
    ")"
   ]
  },
  {
   "cell_type": "code",
   "execution_count": null,
   "metadata": {},
   "outputs": [],
   "source": [
    "# Running a Monte Carlo simulation to forecast 5 years cumulative returns\n",
    "mc_spy_agg_5y.calc_cumulative_return()"
   ]
  },
  {
   "cell_type": "code",
   "execution_count": null,
   "metadata": {},
   "outputs": [],
   "source": [
    "# Plot simulation outcomes\n",
    "mc_spy_agg_5y.plot_simulation();"
   ]
  },
  {
   "cell_type": "code",
   "execution_count": null,
   "metadata": {},
   "outputs": [],
   "source": [
    "# Plot probability distribution and confidence intervals\n",
    "mc_spy_agg_5y.plot_distribution();"
   ]
  },
  {
   "cell_type": "code",
   "execution_count": null,
   "metadata": {},
   "outputs": [],
   "source": [
    "# Fetch summary statistics from the Monte Carlo simulation results\n",
    "spy_agg_summary_5y = mc_spy_agg_5y.summarize_cumulative_return()\n",
    "\n",
    "# Print summary statistics\n",
    "print(spy_agg_summary_5y)"
   ]
  },
  {
   "cell_type": "code",
   "execution_count": null,
   "metadata": {},
   "outputs": [],
   "source": [
    "# Set initial investment\n",
    "initial_investment_5y = 20000\n",
    "\n",
    "# Use the lower and upper `95%` confidence intervals to calculate the range of the possible outcomes of our $60,000\n",
    "ci_lower_5y = round(spy_agg_summary_5y[8]*initial_investment_5y,2)\n",
    "ci_upper_5y = round(spy_agg_summary_5y[9]*initial_investment_5y,2)\n",
    "\n",
    "# Print results\n",
    "print(f\"There is a 95% chance that an initial investment of ${initial_investment_5y} in the portfolio\"\n",
    "      f\" over the next 5 years will end within in the range of\"\n",
    "      f\" ${ci_lower_5y} and ${ci_upper_5y}\")"
   ]
  },
  {
   "cell_type": "markdown",
   "metadata": {},
   "source": [
    "### Ten Years Retirement Option"
   ]
  },
  {
   "cell_type": "code",
   "execution_count": null,
   "metadata": {},
   "outputs": [],
   "source": [
    "# Configuring a Monte Carlo simulation to forecast 10 years cumulative returns\n",
    "num_sims = 500\n",
    "\n",
    "mc_spy_agg_10y = MCSimulation(\n",
    "    portfolio_data = spy_agg_5y,\n",
    "    weights = [.6, .4],\n",
    "    num_simulation = num_sims,\n",
    "    num_trading_days = 252*10\n",
    ")"
   ]
  },
  {
   "cell_type": "code",
   "execution_count": null,
   "metadata": {},
   "outputs": [],
   "source": [
    "# Running a Monte Carlo simulation to forecast 10 years cumulative returns\n",
    "mc_spy_agg_10y.calc_cumulative_return()"
   ]
  },
  {
   "cell_type": "code",
   "execution_count": null,
   "metadata": {},
   "outputs": [],
   "source": [
    "# Plot simulation outcomes\n",
    "mc_spy_agg_10y.plot_simulation();"
   ]
  },
  {
   "cell_type": "code",
   "execution_count": null,
   "metadata": {},
   "outputs": [],
   "source": [
    "# Plot probability distribution and confidence intervals\n",
    "mc_spy_agg_10y.plot_distribution();"
   ]
  },
  {
   "cell_type": "code",
   "execution_count": null,
   "metadata": {},
   "outputs": [],
   "source": [
    "# Fetch summary statistics from the Monte Carlo simulation results\n",
    "spy_agg_summary_10y = mc_spy_agg_10y.summarize_cumulative_return()\n",
    "\n",
    "# Print summary statistics\n",
    "print(spy_agg_summary_10y)"
   ]
  },
  {
   "cell_type": "code",
   "execution_count": null,
   "metadata": {},
   "outputs": [],
   "source": [
    "# Set initial investment\n",
    "#set higher initial investment with 60/40 portfolio\n",
    "initial_investment_10y = 35000\n",
    "\n",
    "\n",
    "# Use the lower and upper `95%` confidence intervals to calculate the range of the possible outcomes of our $60,000\n",
    "ci_lower_10y = round(spy_agg_summary_10y[8]*initial_investment_10y,2)\n",
    "ci_upper_10y = round(spy_agg_summary_10y[9]*initial_investment_10y,2)\n",
    "\n",
    "\n",
    "# Print results\n",
    "print(f\"There is a 95% chance that an initial investment of ${initial_investment_10y} in the portfolio\"\n",
    "      f\" over the next 10 years will end within in the range of\"\n",
    "      f\" ${ci_lower_10y} and ${ci_upper_10y}\")"
   ]
  },
  {
   "cell_type": "code",
   "execution_count": null,
   "metadata": {},
   "outputs": [],
   "source": []
  }
 ],
 "metadata": {
  "kernelspec": {
   "display_name": "Python 3 (ipykernel)",
   "language": "python",
   "name": "python3"
  },
  "language_info": {
   "codemirror_mode": {
    "name": "ipython",
    "version": 3
   },
   "file_extension": ".py",
   "mimetype": "text/x-python",
   "name": "python",
   "nbconvert_exporter": "python",
   "pygments_lexer": "ipython3",
   "version": "3.10.13"
  },
  "nteract": {
   "version": "0.28.0"
  }
 },
 "nbformat": 4,
 "nbformat_minor": 4
}
